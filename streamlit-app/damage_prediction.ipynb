{
 "cells": [
  {
   "cell_type": "code",
   "id": "initial_id",
   "metadata": {
    "collapsed": true,
    "ExecuteTime": {
     "end_time": "2025-09-17T06:11:56.934401Z",
     "start_time": "2025-09-17T06:11:55.644826Z"
    }
   },
   "source": [
    "import os\n",
    "import torch\n",
    "import pandas as pd\n",
    "import numpy as np\n",
    "from torchvision import datasets, transforms\n",
    "from torch.utils.data import DataLoader\n",
    "import torch.nn as nn\n",
    "import torch.optim as optim\n",
    "import torch.nn.functional as F\n",
    "import time\n",
    "import torchvision.models as models\n",
    "from matplotlib import pyplot as plt"
   ],
   "outputs": [],
   "execution_count": 2
  },
  {
   "metadata": {
    "ExecuteTime": {
     "end_time": "2025-09-17T06:12:29.806191Z",
     "start_time": "2025-09-17T06:12:29.781913Z"
    }
   },
   "cell_type": "code",
   "source": [
    "device = torch.device('mps' if torch.backends.mps.is_available() else 'cpu')\n",
    "device"
   ],
   "id": "570d1b0707225e8c",
   "outputs": [
    {
     "data": {
      "text/plain": [
       "device(type='mps')"
      ]
     },
     "execution_count": 3,
     "metadata": {},
     "output_type": "execute_result"
    }
   ],
   "execution_count": 3
  },
  {
   "metadata": {},
   "cell_type": "markdown",
   "source": "### Load Data",
   "id": "419a03f56b080cbc"
  },
  {
   "metadata": {
    "ExecuteTime": {
     "end_time": "2025-09-17T06:51:09.393899Z",
     "start_time": "2025-09-17T06:51:09.391802Z"
    }
   },
   "cell_type": "code",
   "source": [
    "image_transforms = transforms.Compose([\n",
    "    transforms.RandomHorizontalFlip(),\n",
    "    transforms.RandomRotation(18),\n",
    "    transforms.ColorJitter(brightness=0.2, contrast=0.2),\n",
    "    transforms.Resize((224, 224)),\n",
    "    transforms.ToTensor(),\n",
    "     transforms.Normalize(mean=[0.485, 0.456, 0.406], std=[0.229, 0.224,0.225] )\n",
    "])"
   ],
   "id": "198ba0d0e83baac1",
   "outputs": [],
   "execution_count": 45
  },
  {
   "metadata": {
    "ExecuteTime": {
     "end_time": "2025-09-17T06:51:10.457432Z",
     "start_time": "2025-09-17T06:51:10.446278Z"
    }
   },
   "cell_type": "code",
   "source": [
    "dataset_path = 'dataset'\n",
    "\n",
    "dataset = datasets.ImageFolder(root=dataset_path, transform=image_transforms)\n",
    "len(dataset)"
   ],
   "id": "a7c08acfbc4d37bd",
   "outputs": [
    {
     "data": {
      "text/plain": [
       "2300"
      ]
     },
     "execution_count": 46,
     "metadata": {},
     "output_type": "execute_result"
    }
   ],
   "execution_count": 46
  },
  {
   "metadata": {
    "ExecuteTime": {
     "end_time": "2025-09-17T06:51:10.836557Z",
     "start_time": "2025-09-17T06:51:10.833503Z"
    }
   },
   "cell_type": "code",
   "source": "print(dataset.classes)",
   "id": "b22c6919d4d901c8",
   "outputs": [
    {
     "name": "stdout",
     "output_type": "stream",
     "text": [
      "['F_Breakage', 'F_Crushed', 'F_Normal', 'R_Breakage', 'R_Crushed', 'R_Normal']\n"
     ]
    }
   ],
   "execution_count": 47
  },
  {
   "metadata": {
    "ExecuteTime": {
     "end_time": "2025-09-17T07:04:28.916428Z",
     "start_time": "2025-09-17T07:04:28.914036Z"
    }
   },
   "cell_type": "code",
   "source": [
    "num_classes = len(dataset.classes)\n",
    "num_classes"
   ],
   "id": "7d4fc07177916fde",
   "outputs": [
    {
     "data": {
      "text/plain": [
       "6"
      ]
     },
     "execution_count": 58,
     "metadata": {},
     "output_type": "execute_result"
    }
   ],
   "execution_count": 58
  },
  {
   "metadata": {
    "ExecuteTime": {
     "end_time": "2025-09-17T06:51:11.241059Z",
     "start_time": "2025-09-17T06:51:11.238452Z"
    }
   },
   "cell_type": "code",
   "source": [
    "train_size = int(0.75 * len(dataset))\n",
    "val_size = len(dataset) - train_size"
   ],
   "id": "3f2762f21b2f3516",
   "outputs": [],
   "execution_count": 49
  },
  {
   "metadata": {
    "ExecuteTime": {
     "end_time": "2025-09-17T06:51:11.443442Z",
     "start_time": "2025-09-17T06:51:11.440302Z"
    }
   },
   "cell_type": "code",
   "source": [
    "from torch.utils.data import random_split\n",
    "\n",
    "train_dataset, val_dataset = random_split(dataset, [train_size, val_size])"
   ],
   "id": "59b25f4e49f0e189",
   "outputs": [],
   "execution_count": 50
  },
  {
   "metadata": {
    "ExecuteTime": {
     "end_time": "2025-09-17T06:51:11.779615Z",
     "start_time": "2025-09-17T06:51:11.776559Z"
    }
   },
   "cell_type": "code",
   "source": [
    "train_loader = DataLoader(train_dataset, batch_size=32, shuffle=True)\n",
    "val_loader = DataLoader(val_dataset, batch_size=32, shuffle=True)"
   ],
   "id": "3e8111f50810c34f",
   "outputs": [],
   "execution_count": 51
  },
  {
   "metadata": {
    "ExecuteTime": {
     "end_time": "2025-09-17T06:51:12.335752Z",
     "start_time": "2025-09-17T06:51:12.034935Z"
    }
   },
   "cell_type": "code",
   "source": [
    "for image, label in train_loader:\n",
    "     print(image.size())\n",
    "     print(label.size())\n",
    "     break"
   ],
   "id": "e0e2f1e3ff302af4",
   "outputs": [
    {
     "name": "stdout",
     "output_type": "stream",
     "text": [
      "torch.Size([32, 3, 224, 224])\n",
      "torch.Size([32])\n"
     ]
    }
   ],
   "execution_count": 52
  },
  {
   "metadata": {
    "ExecuteTime": {
     "end_time": "2025-09-17T06:51:12.525915Z",
     "start_time": "2025-09-17T06:51:12.522495Z"
    }
   },
   "cell_type": "code",
   "source": "label[0]",
   "id": "58f0424389338287",
   "outputs": [
    {
     "data": {
      "text/plain": [
       "tensor(1)"
      ]
     },
     "execution_count": 53,
     "metadata": {},
     "output_type": "execute_result"
    }
   ],
   "execution_count": 53
  },
  {
   "metadata": {
    "ExecuteTime": {
     "end_time": "2025-09-17T06:51:13.430842Z",
     "start_time": "2025-09-17T06:51:13.424317Z"
    }
   },
   "cell_type": "code",
   "source": "image[0].shape",
   "id": "9657dca0c0c60263",
   "outputs": [
    {
     "data": {
      "text/plain": [
       "torch.Size([3, 224, 224])"
      ]
     },
     "execution_count": 54,
     "metadata": {},
     "output_type": "execute_result"
    }
   ],
   "execution_count": 54
  },
  {
   "metadata": {
    "ExecuteTime": {
     "end_time": "2025-09-17T06:51:32.569810Z",
     "start_time": "2025-09-17T06:51:32.527612Z"
    }
   },
   "cell_type": "code",
   "source": "plt.imshow(image[0].permute(1,2,0))",
   "id": "d498f9bee9e92bbf",
   "outputs": [
    {
     "name": "stderr",
     "output_type": "stream",
     "text": [
      "Clipping input data to the valid range for imshow with RGB data ([0..1] for floats or [0..255] for integers). Got range [-2.117904..2.64].\n"
     ]
    },
    {
     "data": {
      "text/plain": [
       "<matplotlib.image.AxesImage at 0x15ebff9d0>"
      ]
     },
     "execution_count": 56,
     "metadata": {},
     "output_type": "execute_result"
    },
    {
     "data": {
      "text/plain": [
       "<Figure size 640x480 with 1 Axes>"
      ],
      "image/png": "[encoded data removed]"
     },
     "metadata": {},
     "output_type": "display_data"
    }
   ],
   "execution_count": 56
  },
  {
   "metadata": {},
   "cell_type": "markdown",
   "source": "### Model 1: CNN Model Training",
   "id": "fb6ff60ec3da046"
  },
  {
   "metadata": {
    "ExecuteTime": {
     "end_time": "2025-09-17T13:39:19.952429Z",
     "start_time": "2025-09-17T13:39:19.949321Z"
    }
   },
   "cell_type": "code",
   "source": [
    "class CarClassifierCNN(nn.Module):\n",
    "    def __init__(self, num_classes):\n",
    "        super().__init__()\n",
    "        self.network = nn.Sequential(\n",
    "            nn.Conv2d(in_channels=3, out_channels=16, kernel_size=3, stride=1, padding=1),\n",
    "            nn.ReLU(),\n",
    "            nn.MaxPool2d(kernel_size=2, stride=2, padding=0),\n",
    "            nn.Conv2d(in_channels=16, out_channels=32, kernel_size=3, stride=1, padding=1),\n",
    "            nn.ReLU(),\n",
    "            nn.MaxPool2d(kernel_size=2, stride=2, padding=0),\n",
    "            nn.Conv2d(in_channels=32, out_channels=64 , kernel_size=3, stride=1, padding=1),\n",
    "            nn.ReLU(),\n",
    "            nn.MaxPool2d(kernel_size=2, stride=2, padding=0)\n",
    "            ,nn.Flatten(),\n",
    "            nn.Linear(64*28*28, 512),\n",
    "            nn.ReLU(),\n",
    "            nn.Linear(512, num_classes)\n",
    "        )\n",
    "    def forward(self, x):\n",
    "        x = self.network(x)\n",
    "        return x"
   ],
   "id": "a25fa0181ca3efcc",
   "outputs": [],
   "execution_count": 73
  },
  {
   "metadata": {
    "ExecuteTime": {
     "end_time": "2025-09-17T07:37:00.976626Z",
     "start_time": "2025-09-17T07:37:00.874252Z"
    }
   },
   "cell_type": "code",
   "source": [
    "model = CarClassifierCNN(num_classes=num_classes).to(device)\n",
    "criterion = nn.CrossEntropyLoss()\n",
    "optimizer = optim.Adam(model.parameters(), lr=0.001)"
   ],
   "id": "10cd22ce1f78ffd6",
   "outputs": [],
   "execution_count": 66
  },
  {
   "metadata": {
    "ExecuteTime": {
     "end_time": "2025-09-17T13:36:59.268099Z",
     "start_time": "2025-09-17T13:36:59.258674Z"
    }
   },
   "cell_type": "code",
   "source": [
    "def train_model(model, optimizer, criterion, train_loader, val_loader, epochs=5):\n",
    "\n",
    "    for epoch in range(epochs):\n",
    "        start = time.time()\n",
    "        model.train()\n",
    "        running_loss = 0.0\n",
    "        for batch_num, (images, labels) in enumerate(train_loader):\n",
    "            images, labels = images.to(device), labels.to(device)\n",
    "\n",
    "            optimizer.zero_grad()\n",
    "\n",
    "            outputs = model(images)\n",
    "            loss = criterion(outputs, labels)\n",
    "\n",
    "            loss.backward()\n",
    "            optimizer.step()\n",
    "\n",
    "            if (batch_num+1) % 10 == 0:\n",
    "                print(f\"Batch: {batch_num+1}, Epoch: {epoch+1}, Loss: {loss.item() :0.2f}\")\n",
    "            running_loss += loss.item() / len(train_loader.dataset)\n",
    "        epoch_loss = running_loss / len(train_loader.dataset)\n",
    "        print(f\"Epoch [{epoch+1}/{epochs}], Avg Loss: {epoch_loss: 4f}\")\n",
    "\n",
    "        model.eval()\n",
    "        with torch.no_grad():\n",
    "            total = 0\n",
    "            correct = 0\n",
    "            all_labels = []\n",
    "            all_predictions = []\n",
    "            for images, labels in val_loader:\n",
    "                images, labels = images.to(device), labels.to(device)\n",
    "                outputs = model(images)\n",
    "                _, predicted = torch.max(outputs, 1)\n",
    "                correct += (predicted == labels).sum().item()\n",
    "                total += label.size(0)\n",
    "                all_predictions.append(predicted.cpu().numpy())\n",
    "                all_labels.append(labels.cpu().numpy())\n",
    "            print('Validation Accuracy: {:.4f}'.format(100 * correct / total))\n",
    "        end = time.time()\n",
    "        print(f\"Execution time: {end - start} seconds\")\n",
    "    return all_labels, all_predictions"
   ],
   "id": "683a0fb61980cdcc",
   "outputs": [],
   "execution_count": 71
  },
  {
   "metadata": {
    "ExecuteTime": {
     "end_time": "2025-09-17T13:39:19.937390Z",
     "start_time": "2025-09-17T13:36:59.672017Z"
    }
   },
   "cell_type": "code",
   "source": "all_labels, all_predictions = train_model(model, optimizer, criterion, train_loader, val_loader, epochs=5)",
   "id": "875aa16962593c40",
   "outputs": [
    {
     "name": "stdout",
     "output_type": "stream",
     "text": [
      "Batch: 10, Epoch: 1, Loss: 0.96\n",
      "Batch: 20, Epoch: 1, Loss: 1.29\n",
      "Batch: 30, Epoch: 1, Loss: 1.26\n",
      "Batch: 40, Epoch: 1, Loss: 1.20\n",
      "Batch: 50, Epoch: 1, Loss: 0.84\n",
      "Epoch [1/5], Avg Loss:  0.000020\n",
      "Validation Accuracy: 52.6042\n",
      "Execution time: 28.039933919906616 seconds\n",
      "Batch: 10, Epoch: 2, Loss: 1.15\n",
      "Batch: 20, Epoch: 2, Loss: 0.98\n",
      "Batch: 30, Epoch: 2, Loss: 1.04\n",
      "Batch: 40, Epoch: 2, Loss: 0.97\n",
      "Batch: 50, Epoch: 2, Loss: 1.04\n",
      "Epoch [2/5], Avg Loss:  0.000019\n",
      "Validation Accuracy: 52.9514\n",
      "Execution time: 27.459662914276123 seconds\n",
      "Batch: 10, Epoch: 3, Loss: 0.97\n",
      "Batch: 20, Epoch: 3, Loss: 1.04\n",
      "Batch: 30, Epoch: 3, Loss: 1.14\n",
      "Batch: 40, Epoch: 3, Loss: 0.80\n",
      "Batch: 50, Epoch: 3, Loss: 1.06\n",
      "Epoch [3/5], Avg Loss:  0.000017\n",
      "Validation Accuracy: 54.8611\n",
      "Execution time: 27.558767080307007 seconds\n",
      "Batch: 10, Epoch: 4, Loss: 0.85\n",
      "Batch: 20, Epoch: 4, Loss: 0.69\n",
      "Batch: 30, Epoch: 4, Loss: 0.89\n",
      "Batch: 40, Epoch: 4, Loss: 1.08\n",
      "Batch: 50, Epoch: 4, Loss: 0.80\n",
      "Epoch [4/5], Avg Loss:  0.000016\n",
      "Validation Accuracy: 59.0278\n",
      "Execution time: 28.554352045059204 seconds\n",
      "Batch: 10, Epoch: 5, Loss: 0.90\n",
      "Batch: 20, Epoch: 5, Loss: 0.65\n",
      "Batch: 30, Epoch: 5, Loss: 0.88\n",
      "Batch: 40, Epoch: 5, Loss: 1.10\n",
      "Batch: 50, Epoch: 5, Loss: 0.93\n",
      "Epoch [5/5], Avg Loss:  0.000015\n",
      "Validation Accuracy: 58.1597\n",
      "Execution time: 28.64934802055359 seconds\n"
     ]
    }
   ],
   "execution_count": 72
  },
  {
   "metadata": {},
   "cell_type": "markdown",
   "source": "### Model 2 : CNN Model with Regularization",
   "id": "ffb00a89e47b0cca"
  },
  {
   "metadata": {
    "ExecuteTime": {
     "end_time": "2025-09-17T13:40:31.984757Z",
     "start_time": "2025-09-17T13:40:31.980598Z"
    }
   },
   "cell_type": "code",
   "source": [
    "class CarClassifierCNNReg(nn.Module):\n",
    "    def __init__(self, num_classes):\n",
    "        super().__init__()\n",
    "        self.network = nn.Sequential(\n",
    "            nn.Conv2d(in_channels=3, out_channels=16, kernel_size=3, stride=1, padding=1),\n",
    "            nn.BatchNorm2d(num_features=16),\n",
    "            nn.ReLU(),\n",
    "            nn.MaxPool2d(kernel_size=2, stride=2, padding=0),\n",
    "            nn.Conv2d(in_channels=16, out_channels=32, kernel_size=3, stride=1, padding=1),\n",
    "            nn.BatchNorm2d(num_features=32),\n",
    "            nn.ReLU(),\n",
    "            nn.MaxPool2d(kernel_size=2, stride=2, padding=0),\n",
    "            nn.Conv2d(in_channels=32, out_channels=64 , kernel_size=3, stride=1, padding=1),\n",
    "            nn.BatchNorm2d(num_features=64),\n",
    "            nn.ReLU(),\n",
    "            nn.MaxPool2d(kernel_size=2, stride=2, padding=0)\n",
    "            ,nn.Flatten(),\n",
    "            nn.Linear(64*28*28, 512),\n",
    "            nn.ReLU(),\n",
    "            nn.Dropout(p=0.5),\n",
    "            nn.Linear(512, num_classes)\n",
    "        )\n",
    "    def forward(self, x):\n",
    "        x = self.network(x)\n",
    "        return x"
   ],
   "id": "a58738fe379ce779",
   "outputs": [],
   "execution_count": 74
  },
  {
   "metadata": {
    "ExecuteTime": {
     "end_time": "2025-09-17T13:41:16.129942Z",
     "start_time": "2025-09-17T13:41:16.033249Z"
    }
   },
   "cell_type": "code",
   "source": [
    "model = CarClassifierCNNReg(num_classes=num_classes).to(device)\n",
    "criterion = nn.CrossEntropyLoss()\n",
    "optimizer = optim.Adam(model.parameters(), lr=0.001, weight_decay=1e-4)"
   ],
   "id": "c3e0501f33f4561e",
   "outputs": [],
   "execution_count": 76
  },
  {
   "metadata": {
    "ExecuteTime": {
     "end_time": "2025-09-17T13:41:16.407648Z",
     "start_time": "2025-09-17T13:41:16.402755Z"
    }
   },
   "cell_type": "code",
   "source": [
    "def train_model(model, optimizer, criterion, train_loader, val_loader, epochs=5):\n",
    "\n",
    "    for epoch in range(epochs):\n",
    "        start = time.time()\n",
    "        model.train()\n",
    "        running_loss = 0.0\n",
    "        for batch_num, (images, labels) in enumerate(train_loader):\n",
    "            images, labels = images.to(device), labels.to(device)\n",
    "\n",
    "            optimizer.zero_grad()\n",
    "\n",
    "            outputs = model(images)\n",
    "            loss = criterion(outputs, labels)\n",
    "\n",
    "            loss.backward()\n",
    "            optimizer.step()\n",
    "\n",
    "            if (batch_num+1) % 10 == 0:\n",
    "                print(f\"Batch: {batch_num+1}, Epoch: {epoch+1}, Loss: {loss.item() :0.2f}\")\n",
    "            running_loss += loss.item() / len(train_loader.dataset)\n",
    "        epoch_loss = running_loss / len(train_loader.dataset)\n",
    "        print(f\"Epoch [{epoch+1}/{epochs}], Avg Loss: {epoch_loss: 4f}\")\n",
    "\n",
    "        model.eval()\n",
    "        with torch.no_grad():\n",
    "            total = 0\n",
    "            correct = 0\n",
    "            all_labels = []\n",
    "            all_predictions = []\n",
    "            for images, labels in val_loader:\n",
    "                images, labels = images.to(device), labels.to(device)\n",
    "                outputs = model(images)\n",
    "                _, predicted = torch.max(outputs, 1)\n",
    "                correct += (predicted == labels).sum().item()\n",
    "                total += label.size(0)\n",
    "                all_predictions.append(predicted.cpu().numpy())\n",
    "                all_labels.append(labels.cpu().numpy())\n",
    "            print('Validation Accuracy: {:.4f}'.format(100 * correct / total))\n",
    "        end = time.time()\n",
    "        print(f\"Execution time: {end - start} seconds\")\n",
    "    return all_labels, all_predictions"
   ],
   "id": "95c95bb8045fae17",
   "outputs": [],
   "execution_count": 77
  },
  {
   "metadata": {
    "ExecuteTime": {
     "end_time": "2025-09-17T13:44:16.786632Z",
     "start_time": "2025-09-17T13:41:50.954208Z"
    }
   },
   "cell_type": "code",
   "source": "all_labels, all_predictions = train_model(model, optimizer, criterion, train_loader, val_loader, epochs=5)",
   "id": "a5f7a7201931a9eb",
   "outputs": [
    {
     "name": "stdout",
     "output_type": "stream",
     "text": [
      "Batch: 10, Epoch: 1, Loss: 12.78\n",
      "Batch: 20, Epoch: 1, Loss: 6.01\n",
      "Batch: 30, Epoch: 1, Loss: 2.33\n",
      "Batch: 40, Epoch: 1, Loss: 1.77\n",
      "Batch: 50, Epoch: 1, Loss: 1.40\n",
      "Epoch [1/5], Avg Loss:  0.000132\n",
      "Validation Accuracy: 36.8056\n",
      "Execution time: 30.10021185874939 seconds\n",
      "Batch: 10, Epoch: 2, Loss: 1.34\n",
      "Batch: 20, Epoch: 2, Loss: 1.47\n",
      "Batch: 30, Epoch: 2, Loss: 1.30\n",
      "Batch: 40, Epoch: 2, Loss: 1.36\n",
      "Batch: 50, Epoch: 2, Loss: 1.51\n",
      "Epoch [2/5], Avg Loss:  0.000027\n",
      "Validation Accuracy: 42.1875\n",
      "Execution time: 28.530019998550415 seconds\n",
      "Batch: 10, Epoch: 3, Loss: 1.27\n",
      "Batch: 20, Epoch: 3, Loss: 1.41\n",
      "Batch: 30, Epoch: 3, Loss: 1.30\n",
      "Batch: 40, Epoch: 3, Loss: 1.12\n",
      "Batch: 50, Epoch: 3, Loss: 1.65\n",
      "Epoch [3/5], Avg Loss:  0.000025\n",
      "Validation Accuracy: 41.1458\n",
      "Execution time: 29.399631023406982 seconds\n",
      "Batch: 10, Epoch: 4, Loss: 1.40\n",
      "Batch: 20, Epoch: 4, Loss: 1.56\n",
      "Batch: 30, Epoch: 4, Loss: 1.31\n",
      "Batch: 40, Epoch: 4, Loss: 2.22\n",
      "Batch: 50, Epoch: 4, Loss: 1.24\n",
      "Epoch [4/5], Avg Loss:  0.000025\n",
      "Validation Accuracy: 43.2292\n",
      "Execution time: 28.68365716934204 seconds\n",
      "Batch: 10, Epoch: 5, Loss: 1.33\n",
      "Batch: 20, Epoch: 5, Loss: 1.27\n",
      "Batch: 30, Epoch: 5, Loss: 1.18\n",
      "Batch: 40, Epoch: 5, Loss: 1.41\n",
      "Batch: 50, Epoch: 5, Loss: 1.31\n",
      "Epoch [5/5], Avg Loss:  0.000025\n",
      "Validation Accuracy: 44.2708\n",
      "Execution time: 29.115867853164673 seconds\n"
     ]
    }
   ],
   "execution_count": 78
  },
  {
   "metadata": {},
   "cell_type": "markdown",
   "source": "### Model 3 : Transfer Learning with EfficientNet",
   "id": "97ca3fba6dd828b5"
  },
  {
   "metadata": {
    "ExecuteTime": {
     "end_time": "2025-09-17T14:00:58.184800Z",
     "start_time": "2025-09-17T14:00:58.178525Z"
    }
   },
   "cell_type": "code",
   "source": [
    "class CarClassifierEfficientNet(nn.Module):\n",
    "    def __init__(self, num_classes):\n",
    "        super().__init__()\n",
    "        self.model = models.efficientnet_b0(weights='DEFAULT')\n",
    "        for param in self.model.parameters():\n",
    "            param.requires_grad = False\n",
    "\n",
    "        in_features = self.model.classifier[1].in_features\n",
    "        self.model.classifier = nn.Sequential(\n",
    "            nn.Dropout(0.2),\n",
    "            nn.Linear(in_features, num_classes)\n",
    "        )\n",
    "    def forward(self, x):\n",
    "        x = self.model(x)\n",
    "        return x\n"
   ],
   "id": "cd9ea6dc6657f928",
   "outputs": [],
   "execution_count": 79
  },
  {
   "metadata": {
    "ExecuteTime": {
     "end_time": "2025-09-17T14:02:55.171904Z",
     "start_time": "2025-09-17T14:02:46.447380Z"
    }
   },
   "cell_type": "code",
   "source": [
    "model = CarClassifierEfficientNet(num_classes).to(device)\n",
    "criterion = nn.CrossEntropyLoss()\n",
    "optimizer = optim.Adam(filter(lambda p : p.requires_grad, model.parameters() ), lr=0.001)"
   ],
   "id": "9f4d8b3b2df25c70",
   "outputs": [
    {
     "name": "stdout",
     "output_type": "stream",
     "text": [
      "Downloading: \"https://download.pytorch.org/models/efficientnet_b0_rwightman-7f5810bc.pth\" to /Users/sheetals/.cache/torch/hub/checkpoints/efficientnet_b0_rwightman-7f5810bc.pth\n"
     ]
    },
    {
     "name": "stderr",
     "output_type": "stream",
     "text": [
      "100%|██████████| 20.5M/20.5M [00:06<00:00, 3.07MB/s]\n"
     ]
    }
   ],
   "execution_count": 81
  },
  {
   "metadata": {
    "ExecuteTime": {
     "end_time": "2025-09-17T14:06:24.092534Z",
     "start_time": "2025-09-17T14:03:42.953122Z"
    }
   },
   "cell_type": "code",
   "source": "train_model(model, optimizer, criterion, train_loader, val_loader, epochs=5)",
   "id": "c429c191a4377d71",
   "outputs": [
    {
     "name": "stdout",
     "output_type": "stream",
     "text": [
      "Batch: 10, Epoch: 1, Loss: 1.67\n",
      "Batch: 20, Epoch: 1, Loss: 1.45\n",
      "Batch: 30, Epoch: 1, Loss: 1.32\n",
      "Batch: 40, Epoch: 1, Loss: 1.30\n",
      "Batch: 50, Epoch: 1, Loss: 1.28\n",
      "Epoch [1/5], Avg Loss:  0.000026\n",
      "Validation Accuracy: 55.3819\n",
      "Execution time: 33.25842881202698 seconds\n",
      "Batch: 10, Epoch: 2, Loss: 1.14\n",
      "Batch: 20, Epoch: 2, Loss: 1.06\n",
      "Batch: 30, Epoch: 2, Loss: 1.05\n",
      "Batch: 40, Epoch: 2, Loss: 0.98\n",
      "Batch: 50, Epoch: 2, Loss: 1.11\n",
      "Epoch [2/5], Avg Loss:  0.000019\n",
      "Validation Accuracy: 61.1111\n",
      "Execution time: 31.423798084259033 seconds\n",
      "Batch: 10, Epoch: 3, Loss: 0.97\n",
      "Batch: 20, Epoch: 3, Loss: 0.85\n",
      "Batch: 30, Epoch: 3, Loss: 1.01\n",
      "Batch: 40, Epoch: 3, Loss: 0.83\n",
      "Batch: 50, Epoch: 3, Loss: 1.01\n",
      "Epoch [3/5], Avg Loss:  0.000017\n",
      "Validation Accuracy: 62.5000\n",
      "Execution time: 31.96042823791504 seconds\n",
      "Batch: 10, Epoch: 4, Loss: 0.88\n",
      "Batch: 20, Epoch: 4, Loss: 0.87\n",
      "Batch: 30, Epoch: 4, Loss: 0.81\n",
      "Batch: 40, Epoch: 4, Loss: 1.03\n",
      "Batch: 50, Epoch: 4, Loss: 0.87\n",
      "Epoch [4/5], Avg Loss:  0.000016\n",
      "Validation Accuracy: 64.4097\n",
      "Execution time: 31.79936695098877 seconds\n",
      "Batch: 10, Epoch: 5, Loss: 0.92\n",
      "Batch: 20, Epoch: 5, Loss: 1.03\n",
      "Batch: 30, Epoch: 5, Loss: 0.88\n",
      "Batch: 40, Epoch: 5, Loss: 0.83\n",
      "Batch: 50, Epoch: 5, Loss: 0.91\n",
      "Epoch [5/5], Avg Loss:  0.000015\n",
      "Validation Accuracy: 63.1944\n",
      "Execution time: 32.69195485115051 seconds\n"
     ]
    },
    {
     "data": {
      "text/plain": [
       "([array([0, 2, 2, 2, 0, 3, 0, 1, 2, 2, 5, 0, 2, 1, 5, 2, 0, 2, 3, 2, 2, 3,\n",
       "         5, 0, 3, 1, 0, 2, 1, 4, 5, 3]),\n",
       "  array([0, 2, 3, 2, 3, 4, 0, 3, 4, 3, 5, 3, 0, 1, 3, 4, 1, 4, 5, 0, 1, 2,\n",
       "         3, 0, 5, 0, 0, 5, 3, 2, 0, 0]),\n",
       "  array([0, 1, 3, 2, 1, 2, 5, 5, 5, 2, 5, 2, 5, 5, 3, 2, 3, 0, 1, 4, 3, 4,\n",
       "         5, 5, 3, 3, 3, 0, 4, 1, 5, 1]),\n",
       "  array([2, 3, 0, 3, 2, 1, 3, 0, 3, 0, 0, 2, 5, 2, 0, 4, 1, 3, 1, 4, 2, 2,\n",
       "         4, 0, 1, 2, 4, 1, 4, 2, 5, 1]),\n",
       "  array([4, 2, 1, 5, 2, 0, 1, 5, 0, 2, 1, 1, 0, 0, 1, 4, 5, 1, 1, 0, 3, 5,\n",
       "         0, 3, 4, 2, 4, 1, 3, 4, 4, 0]),\n",
       "  array([2, 1, 3, 2, 0, 0, 3, 2, 2, 2, 5, 4, 0, 5, 1, 5, 2, 4, 2, 0, 2, 3,\n",
       "         1, 4, 2, 5, 4, 3, 1, 2, 3, 1]),\n",
       "  array([4, 0, 5, 2, 0, 0, 1, 2, 3, 4, 4, 5, 3, 1, 1, 2, 0, 0, 4, 3, 1, 4,\n",
       "         2, 1, 0, 3, 5, 1, 2, 2, 5, 4]),\n",
       "  array([5, 5, 2, 2, 0, 0, 1, 4, 5, 1, 0, 1, 2, 3, 0, 1, 5, 4, 5, 5, 5, 2,\n",
       "         0, 0, 4, 1, 3, 5, 0, 5, 0, 4]),\n",
       "  array([1, 4, 0, 0, 2, 1, 4, 3, 1, 0, 2, 5, 1, 3, 3, 3, 2, 1, 5, 1, 3, 1,\n",
       "         4, 5, 5, 2, 0, 3, 0, 0, 3, 2]),\n",
       "  array([2, 1, 1, 1, 0, 0, 2, 0, 3, 4, 3, 5, 1, 1, 1, 5, 0, 2, 1, 0, 2, 0,\n",
       "         0, 2, 1, 2, 0, 5, 0, 0, 2, 5]),\n",
       "  array([2, 2, 0, 0, 2, 2, 5, 1, 0, 5, 3, 2, 0, 1, 5, 2, 1, 3, 0, 1, 4, 1,\n",
       "         3, 1, 0, 2, 4, 0, 2, 4, 4, 1]),\n",
       "  array([0, 2, 2, 2, 1, 1, 2, 0, 0, 0, 3, 0, 2, 4, 5, 2, 4, 0, 4, 0, 3, 0,\n",
       "         1, 3, 0, 1, 1, 4, 0, 5, 0, 2]),\n",
       "  array([2, 1, 1, 2, 4, 3, 5, 3, 3, 4, 1, 5, 4, 1, 2, 3, 0, 4, 1, 3, 1, 5,\n",
       "         0, 3, 1, 5, 1, 2, 4, 4, 3, 1]),\n",
       "  array([0, 2, 5, 2, 5, 2, 1, 5, 5, 2, 2, 2, 0, 5, 0, 0, 5, 0, 4, 4, 0, 0,\n",
       "         5, 2, 0, 0, 5, 4, 4, 0, 4, 0]),\n",
       "  array([1, 2, 0, 1, 3, 2, 2, 0, 4, 3, 0, 3, 2, 1, 2, 5, 0, 2, 2, 1, 2, 4,\n",
       "         1, 0, 1, 0, 0, 2, 2, 0, 1, 2]),\n",
       "  array([5, 1, 2, 0, 2, 1, 5, 3, 3, 4, 4, 0, 5, 0, 5, 0, 2, 0, 0, 0, 4, 3,\n",
       "         2, 0, 1, 2, 4, 5, 3, 2, 0, 2]),\n",
       "  array([0, 2, 1, 4, 1, 3, 1, 1, 4, 0, 4, 1, 4, 5, 1, 4, 3, 4, 3, 5, 3, 1,\n",
       "         4, 0, 5, 4, 1, 5, 1, 1, 0, 0]),\n",
       "  array([2, 2, 4, 0, 1, 5, 1, 5, 5, 0, 1, 4, 0, 1, 1, 3, 5, 5, 4, 1, 2, 1,\n",
       "         4, 5, 0, 5, 4, 2, 4, 3, 1])],\n",
       " [array([0, 0, 2, 2, 0, 3, 0, 0, 2, 2, 5, 0, 2, 1, 4, 2, 1, 0, 3, 2, 2, 3,\n",
       "         5, 0, 4, 0, 0, 0, 2, 5, 3, 0]),\n",
       "  array([0, 2, 5, 2, 3, 4, 1, 3, 3, 0, 5, 3, 0, 1, 4, 3, 0, 4, 5, 1, 0, 2,\n",
       "         0, 0, 5, 2, 2, 5, 3, 2, 0, 0]),\n",
       "  array([0, 1, 4, 2, 1, 2, 5, 5, 5, 0, 5, 2, 5, 4, 3, 1, 3, 1, 1, 4, 4, 5,\n",
       "         5, 5, 3, 3, 5, 0, 4, 0, 5, 1]),\n",
       "  array([2, 3, 0, 0, 2, 1, 4, 0, 3, 0, 0, 2, 3, 0, 2, 4, 1, 3, 1, 3, 2, 0,\n",
       "         4, 0, 0, 0, 4, 1, 4, 2, 5, 4]),\n",
       "  array([5, 1, 1, 5, 0, 0, 2, 3, 0, 2, 0, 0, 0, 0, 0, 4, 5, 0, 0, 0, 3, 3,\n",
       "         0, 2, 3, 0, 5, 2, 4, 3, 5, 0]),\n",
       "  array([2, 0, 3, 1, 0, 0, 3, 2, 0, 1, 4, 1, 0, 4, 1, 5, 2, 5, 2, 0, 2, 5,\n",
       "         1, 4, 0, 5, 4, 3, 0, 2, 3, 1]),\n",
       "  array([3, 0, 5, 2, 0, 0, 2, 0, 3, 4, 4, 5, 3, 0, 1, 2, 1, 4, 3, 3, 1, 4,\n",
       "         2, 1, 0, 3, 5, 1, 2, 1, 4, 3]),\n",
       "  array([5, 3, 0, 2, 0, 0, 1, 4, 3, 0, 0, 1, 2, 3, 0, 0, 5, 3, 4, 2, 5, 0,\n",
       "         0, 0, 5, 0, 4, 5, 0, 5, 1, 4]),\n",
       "  array([0, 4, 0, 3, 2, 0, 4, 3, 0, 0, 0, 5, 0, 3, 5, 4, 2, 1, 5, 0, 3, 0,\n",
       "         5, 2, 2, 2, 0, 5, 0, 0, 0, 2]),\n",
       "  array([2, 5, 1, 0, 0, 0, 2, 0, 0, 0, 4, 0, 1, 0, 0, 4, 0, 0, 0, 0, 2, 0,\n",
       "         0, 2, 1, 2, 1, 5, 1, 0, 2, 5]),\n",
       "  array([0, 1, 0, 1, 2, 2, 5, 0, 0, 5, 1, 0, 1, 1, 5, 0, 1, 4, 0, 2, 4, 0,\n",
       "         3, 1, 0, 2, 1, 0, 0, 5, 4, 0]),\n",
       "  array([0, 2, 2, 2, 1, 1, 2, 0, 0, 0, 3, 0, 2, 5, 3, 2, 3, 0, 3, 0, 4, 2,\n",
       "         1, 1, 0, 1, 1, 5, 0, 4, 0, 0]),\n",
       "  array([2, 0, 0, 1, 4, 4, 4, 3, 3, 4, 1, 5, 3, 0, 2, 3, 0, 3, 1, 4, 1, 5,\n",
       "         0, 3, 1, 5, 0, 1, 2, 5, 5, 0]),\n",
       "  array([0, 2, 5, 2, 5, 2, 1, 5, 5, 0, 2, 1, 0, 4, 0, 0, 5, 0, 1, 4, 0, 0,\n",
       "         5, 2, 0, 0, 4, 4, 4, 0, 3, 1]),\n",
       "  array([0, 2, 0, 1, 3, 0, 2, 0, 4, 3, 0, 3, 2, 1, 2, 5, 0, 0, 2, 0, 2, 4,\n",
       "         0, 0, 0, 0, 0, 0, 1, 0, 4, 2]),\n",
       "  array([5, 1, 2, 0, 2, 0, 4, 3, 3, 4, 4, 1, 5, 0, 5, 0, 2, 0, 1, 0, 4, 3,\n",
       "         0, 0, 1, 2, 3, 5, 5, 1, 0, 2]),\n",
       "  array([0, 2, 1, 5, 0, 4, 1, 1, 4, 1, 4, 4, 3, 5, 1, 4, 4, 5, 3, 3, 3, 1,\n",
       "         3, 0, 5, 4, 2, 5, 0, 0, 1, 0]),\n",
       "  array([2, 2, 4, 0, 0, 0, 1, 5, 5, 0, 0, 4, 0, 2, 1, 4, 5, 5, 5, 1, 2, 2,\n",
       "         4, 2, 0, 5, 4, 2, 5, 3, 1])])"
      ]
     },
     "execution_count": 83,
     "metadata": {},
     "output_type": "execute_result"
    }
   ],
   "execution_count": 83
  },
  {
   "metadata": {},
   "cell_type": "markdown",
   "source": "### Model 4 : Transfer Learning with ResNet",
   "id": "d8550d6f40d0e471"
  },
  {
   "metadata": {
    "ExecuteTime": {
     "end_time": "2025-09-18T03:43:50.885168Z",
     "start_time": "2025-09-18T03:43:50.879366Z"
    }
   },
   "cell_type": "code",
   "source": [
    "class CarClassifierResNet(nn.Module):\n",
    "    def __init__(self, num_classes, dropout_rate):\n",
    "        super().__init__()\n",
    "        self.model = models.resnet50(weights='DEFAULT')\n",
    "        for param in self.model.parameters():\n",
    "            param.requires_grad = False\n",
    "\n",
    "        for param in self.model.layer4.parameters():\n",
    "            param.requires_grad = True\n",
    "\n",
    "\n",
    "        self.model.fc = nn.Sequential(\n",
    "            nn.Dropout(dropout_rate),\n",
    "            nn.Linear(self.model.fc.in_features, num_classes)\n",
    "        )\n",
    "    def forward(self, x):\n",
    "        x = self.model(x)\n",
    "        return x\n"
   ],
   "id": "afdd35c52ebe49e",
   "outputs": [],
   "execution_count": 100
  },
  {
   "metadata": {
    "ExecuteTime": {
     "end_time": "2025-09-17T14:18:56.024321Z",
     "start_time": "2025-09-17T14:09:35.573477Z"
    }
   },
   "cell_type": "code",
   "source": [
    "model = CarClassifierResNet(num_classes).to(device)\n",
    "criterion = nn.CrossEntropyLoss()\n",
    "optimizer = optim.Adam(filter(lambda p : p.requires_grad, model.parameters() ), lr=0.001)\n",
    "train_model(model, optimizer, criterion, train_loader, val_loader, epochs=10)"
   ],
   "id": "fbcda7b609b2268e",
   "outputs": [
    {
     "name": "stdout",
     "output_type": "stream",
     "text": [
      "Downloading: \"https://download.pytorch.org/models/resnet50-11ad3fa6.pth\" to /Users/sheetals/.cache/torch/hub/checkpoints/resnet50-11ad3fa6.pth\n"
     ]
    },
    {
     "name": "stderr",
     "output_type": "stream",
     "text": [
      "100%|██████████| 97.8M/97.8M [00:32<00:00, 3.14MB/s]\n"
     ]
    },
    {
     "name": "stdout",
     "output_type": "stream",
     "text": [
      "Batch: 10, Epoch: 1, Loss: 0.91\n",
      "Batch: 20, Epoch: 1, Loss: 0.71\n",
      "Batch: 30, Epoch: 1, Loss: 0.85\n",
      "Batch: 40, Epoch: 1, Loss: 0.95\n",
      "Batch: 50, Epoch: 1, Loss: 0.58\n",
      "Epoch [1/10], Avg Loss:  0.000016\n",
      "Validation Accuracy: 73.9583\n",
      "Execution time: 46.23990297317505 seconds\n",
      "Batch: 10, Epoch: 2, Loss: 0.39\n",
      "Batch: 20, Epoch: 2, Loss: 0.29\n",
      "Batch: 30, Epoch: 2, Loss: 0.43\n",
      "Batch: 40, Epoch: 2, Loss: 0.40\n",
      "Batch: 50, Epoch: 2, Loss: 0.49\n",
      "Epoch [2/10], Avg Loss:  0.000008\n",
      "Validation Accuracy: 75.0000\n",
      "Execution time: 44.47982907295227 seconds\n",
      "Batch: 10, Epoch: 3, Loss: 0.59\n",
      "Batch: 20, Epoch: 3, Loss: 0.17\n",
      "Batch: 30, Epoch: 3, Loss: 0.30\n",
      "Batch: 40, Epoch: 3, Loss: 0.44\n",
      "Batch: 50, Epoch: 3, Loss: 0.21\n",
      "Epoch [3/10], Avg Loss:  0.000006\n",
      "Validation Accuracy: 77.9514\n",
      "Execution time: 44.916000843048096 seconds\n",
      "Batch: 10, Epoch: 4, Loss: 0.18\n",
      "Batch: 20, Epoch: 4, Loss: 0.45\n",
      "Batch: 30, Epoch: 4, Loss: 0.42\n",
      "Batch: 40, Epoch: 4, Loss: 0.20\n",
      "Batch: 50, Epoch: 4, Loss: 0.12\n",
      "Epoch [4/10], Avg Loss:  0.000005\n",
      "Validation Accuracy: 77.7778\n",
      "Execution time: 51.73245286941528 seconds\n",
      "Batch: 10, Epoch: 5, Loss: 0.20\n",
      "Batch: 20, Epoch: 5, Loss: 0.17\n",
      "Batch: 30, Epoch: 5, Loss: 0.13\n",
      "Batch: 40, Epoch: 5, Loss: 0.05\n",
      "Batch: 50, Epoch: 5, Loss: 0.18\n",
      "Epoch [5/10], Avg Loss:  0.000003\n",
      "Validation Accuracy: 76.5625\n",
      "Execution time: 57.29368829727173 seconds\n",
      "Batch: 10, Epoch: 6, Loss: 0.24\n",
      "Batch: 20, Epoch: 6, Loss: 0.15\n",
      "Batch: 30, Epoch: 6, Loss: 0.22\n",
      "Batch: 40, Epoch: 6, Loss: 0.15\n",
      "Batch: 50, Epoch: 6, Loss: 0.05\n",
      "Epoch [6/10], Avg Loss:  0.000003\n",
      "Validation Accuracy: 77.7778\n",
      "Execution time: 55.96455907821655 seconds\n",
      "Batch: 10, Epoch: 7, Loss: 0.04\n",
      "Batch: 20, Epoch: 7, Loss: 0.08\n",
      "Batch: 30, Epoch: 7, Loss: 0.07\n",
      "Batch: 40, Epoch: 7, Loss: 0.28\n",
      "Batch: 50, Epoch: 7, Loss: 0.18\n",
      "Epoch [7/10], Avg Loss:  0.000002\n",
      "Validation Accuracy: 78.2986\n",
      "Execution time: 55.197372913360596 seconds\n",
      "Batch: 10, Epoch: 8, Loss: 0.03\n",
      "Batch: 20, Epoch: 8, Loss: 0.07\n",
      "Batch: 30, Epoch: 8, Loss: 0.03\n",
      "Batch: 40, Epoch: 8, Loss: 0.10\n",
      "Batch: 50, Epoch: 8, Loss: 0.31\n",
      "Epoch [8/10], Avg Loss:  0.000002\n",
      "Validation Accuracy: 78.9931\n",
      "Execution time: 55.9726243019104 seconds\n",
      "Batch: 10, Epoch: 9, Loss: 0.06\n",
      "Batch: 20, Epoch: 9, Loss: 0.06\n",
      "Batch: 30, Epoch: 9, Loss: 0.09\n",
      "Batch: 40, Epoch: 9, Loss: 0.04\n",
      "Batch: 50, Epoch: 9, Loss: 0.03\n",
      "Epoch [9/10], Avg Loss:  0.000002\n",
      "Validation Accuracy: 78.4722\n",
      "Execution time: 57.0688362121582 seconds\n",
      "Batch: 10, Epoch: 10, Loss: 0.05\n",
      "Batch: 20, Epoch: 10, Loss: 0.07\n",
      "Batch: 30, Epoch: 10, Loss: 0.06\n",
      "Batch: 40, Epoch: 10, Loss: 0.07\n",
      "Batch: 50, Epoch: 10, Loss: 0.21\n",
      "Epoch [10/10], Avg Loss:  0.000001\n",
      "Validation Accuracy: 77.7778\n",
      "Execution time: 57.232040882110596 seconds\n"
     ]
    },
    {
     "data": {
      "text/plain": [
       "([array([5, 2, 0, 4, 0, 0, 4, 1, 5, 3, 4, 5, 3, 5, 3, 2, 0, 1, 4, 2, 2, 0,\n",
       "         1, 5, 2, 2, 4, 1, 2, 2, 0, 5]),\n",
       "  array([2, 0, 1, 1, 3, 2, 4, 1, 5, 2, 1, 5, 3, 1, 0, 0, 1, 4, 2, 2, 2, 5,\n",
       "         4, 4, 5, 0, 3, 4, 1, 0, 0, 3]),\n",
       "  array([4, 2, 2, 5, 5, 5, 3, 3, 1, 1, 0, 0, 2, 0, 3, 4, 1, 1, 1, 2, 2, 5,\n",
       "         1, 4, 4, 2, 4, 1, 0, 5, 1, 0]),\n",
       "  array([4, 3, 1, 3, 4, 4, 5, 5, 0, 2, 3, 2, 1, 2, 0, 1, 4, 1, 1, 5, 1, 5,\n",
       "         2, 2, 0, 0, 0, 1, 0, 3, 2, 0]),\n",
       "  array([0, 1, 0, 2, 3, 3, 4, 0, 3, 0, 2, 4, 5, 1, 1, 1, 1, 4, 0, 1, 1, 2,\n",
       "         2, 2, 4, 0, 0, 5, 5, 5, 5, 0]),\n",
       "  array([5, 1, 4, 1, 4, 1, 0, 2, 0, 2, 1, 0, 5, 2, 0, 5, 2, 3, 3, 3, 5, 4,\n",
       "         3, 4, 0, 4, 0, 0, 1, 1, 4, 1]),\n",
       "  array([3, 5, 2, 4, 0, 1, 5, 4, 1, 4, 0, 5, 1, 0, 1, 5, 3, 4, 0, 2, 5, 0,\n",
       "         3, 4, 0, 3, 5, 1, 1, 0, 3, 0]),\n",
       "  array([0, 5, 0, 2, 0, 2, 0, 0, 0, 1, 2, 2, 3, 1, 4, 2, 5, 2, 2, 2, 2, 3,\n",
       "         4, 4, 5, 0, 2, 4, 1, 4, 3, 2]),\n",
       "  array([2, 5, 2, 3, 2, 3, 4, 0, 0, 3, 1, 0, 4, 4, 2, 5, 2, 4, 5, 3, 0, 4,\n",
       "         4, 2, 4, 5, 0, 2, 2, 3, 1, 0]),\n",
       "  array([0, 5, 3, 1, 4, 3, 3, 4, 2, 3, 0, 5, 3, 4, 5, 0, 1, 4, 4, 3, 1, 1,\n",
       "         0, 2, 0, 2, 3, 0, 1, 1, 3, 3]),\n",
       "  array([0, 1, 1, 0, 5, 0, 5, 1, 1, 2, 0, 0, 1, 4, 3, 2, 3, 0, 0, 0, 3, 5,\n",
       "         1, 0, 2, 0, 0, 1, 0, 1, 0, 2]),\n",
       "  array([0, 2, 1, 1, 0, 4, 5, 4, 1, 2, 5, 5, 3, 2, 1, 1, 1, 3, 3, 3, 1, 2,\n",
       "         2, 0, 2, 3, 3, 1, 5, 3, 5, 2]),\n",
       "  array([2, 4, 1, 0, 3, 2, 2, 4, 4, 1, 0, 4, 1, 2, 2, 2, 2, 0, 1, 2, 0, 2,\n",
       "         4, 2, 3, 5, 5, 1, 3, 5, 1, 1]),\n",
       "  array([3, 1, 0, 0, 5, 0, 0, 2, 4, 2, 2, 0, 1, 2, 0, 2, 5, 5, 1, 5, 4, 0,\n",
       "         1, 1, 1, 0, 2, 2, 0, 4, 0, 1]),\n",
       "  array([0, 2, 5, 1, 1, 3, 1, 2, 1, 1, 1, 1, 2, 2, 4, 0, 4, 1, 5, 0, 0, 2,\n",
       "         5, 1, 0, 2, 0, 4, 0, 5, 5, 2]),\n",
       "  array([3, 5, 2, 3, 5, 4, 2, 0, 1, 3, 3, 0, 3, 3, 4, 3, 0, 1, 2, 1, 0, 5,\n",
       "         3, 2, 2, 4, 5, 0, 2, 1, 4, 5]),\n",
       "  array([3, 3, 2, 1, 0, 2, 5, 1, 3, 5, 0, 1, 2, 5, 4, 5, 5, 2, 4, 4, 2, 5,\n",
       "         3, 0, 4, 1, 3, 3, 0, 1, 2, 5]),\n",
       "  array([2, 1, 0, 2, 0, 3, 5, 5, 0, 2, 5, 3, 0, 4, 0, 5, 0, 0, 5, 0, 5, 0,\n",
       "         2, 0, 0, 4, 2, 2, 1, 4, 2])],\n",
       " [array([3, 2, 0, 3, 0, 0, 4, 1, 5, 3, 5, 5, 3, 5, 3, 2, 0, 1, 3, 2, 2, 0,\n",
       "         0, 5, 2, 2, 5, 2, 0, 0, 0, 5]),\n",
       "  array([2, 0, 1, 0, 3, 2, 3, 1, 5, 2, 1, 5, 3, 1, 0, 0, 1, 5, 2, 2, 2, 5,\n",
       "         3, 4, 5, 0, 3, 4, 1, 0, 0, 3]),\n",
       "  array([4, 1, 2, 5, 3, 5, 3, 3, 1, 1, 0, 0, 2, 1, 3, 3, 1, 1, 0, 2, 2, 5,\n",
       "         1, 4, 4, 2, 4, 1, 1, 5, 0, 0]),\n",
       "  array([4, 3, 1, 3, 3, 4, 5, 5, 0, 0, 3, 1, 1, 2, 0, 1, 4, 1, 1, 5, 1, 5,\n",
       "         2, 0, 0, 1, 0, 1, 0, 3, 2, 0]),\n",
       "  array([0, 1, 0, 0, 3, 3, 4, 0, 3, 0, 2, 4, 5, 0, 1, 1, 1, 3, 0, 1, 2, 1,\n",
       "         2, 0, 3, 0, 0, 5, 3, 5, 5, 0]),\n",
       "  array([5, 1, 4, 0, 3, 1, 0, 1, 0, 2, 1, 1, 4, 2, 0, 5, 2, 3, 3, 3, 5, 4,\n",
       "         3, 5, 0, 3, 0, 0, 1, 1, 5, 0]),\n",
       "  array([3, 5, 2, 4, 0, 0, 5, 3, 1, 5, 0, 3, 1, 1, 1, 3, 3, 4, 0, 2, 3, 0,\n",
       "         3, 3, 0, 3, 5, 1, 1, 0, 3, 0]),\n",
       "  array([0, 5, 0, 2, 0, 0, 1, 0, 0, 1, 2, 2, 3, 2, 5, 1, 5, 2, 2, 0, 2, 3,\n",
       "         3, 5, 3, 0, 2, 4, 1, 3, 4, 2]),\n",
       "  array([2, 5, 2, 3, 2, 3, 5, 0, 0, 3, 0, 1, 4, 3, 2, 5, 2, 4, 4, 5, 0, 5,\n",
       "         4, 2, 4, 5, 0, 1, 2, 3, 1, 0]),\n",
       "  array([0, 5, 3, 1, 3, 3, 3, 3, 2, 3, 0, 4, 5, 4, 4, 0, 0, 4, 4, 3, 0, 0,\n",
       "         0, 1, 0, 2, 3, 0, 1, 2, 3, 3]),\n",
       "  array([0, 1, 0, 0, 5, 0, 5, 1, 1, 2, 1, 0, 1, 4, 4, 2, 0, 0, 0, 0, 3, 5,\n",
       "         1, 0, 2, 0, 0, 1, 0, 1, 0, 0]),\n",
       "  array([0, 2, 1, 1, 0, 3, 5, 5, 0, 2, 3, 3, 3, 2, 1, 0, 1, 3, 3, 3, 1, 2,\n",
       "         2, 0, 2, 3, 3, 1, 5, 3, 5, 0]),\n",
       "  array([2, 3, 1, 0, 0, 1, 2, 4, 5, 1, 0, 3, 1, 2, 2, 2, 2, 0, 1, 2, 0, 2,\n",
       "         3, 2, 3, 5, 5, 1, 3, 5, 1, 0]),\n",
       "  array([3, 1, 0, 0, 3, 0, 0, 2, 4, 2, 2, 0, 1, 2, 0, 2, 5, 5, 0, 5, 3, 0,\n",
       "         1, 1, 1, 0, 2, 2, 0, 4, 0, 1]),\n",
       "  array([0, 2, 3, 0, 1, 3, 1, 2, 1, 2, 1, 1, 1, 2, 4, 0, 3, 0, 3, 1, 0, 2,\n",
       "         5, 1, 0, 2, 0, 4, 0, 5, 4, 2]),\n",
       "  array([3, 5, 2, 3, 5, 4, 2, 0, 1, 3, 3, 0, 3, 3, 4, 3, 1, 1, 2, 1, 0, 5,\n",
       "         3, 2, 2, 4, 5, 0, 2, 1, 3, 5]),\n",
       "  array([3, 5, 0, 0, 0, 2, 5, 1, 3, 5, 0, 0, 2, 5, 4, 5, 5, 2, 4, 4, 2, 5,\n",
       "         3, 0, 3, 1, 3, 3, 1, 0, 1, 5]),\n",
       "  array([2, 1, 0, 2, 0, 3, 5, 3, 1, 1, 5, 3, 0, 4, 0, 5, 0, 0, 5, 0, 5, 0,\n",
       "         1, 1, 0, 4, 2, 2, 1, 3, 1])])"
      ]
     },
     "execution_count": 86,
     "metadata": {},
     "output_type": "execute_result"
    }
   ],
   "execution_count": 86
  },
  {
   "metadata": {},
   "cell_type": "markdown",
   "source": "### Model 5 : Hypertuning the parameters (ResNet)",
   "id": "a9c96d999b28863c"
  },
  {
   "metadata": {
    "ExecuteTime": {
     "end_time": "2025-09-17T14:26:01.324455Z",
     "start_time": "2025-09-17T14:26:01.317813Z"
    }
   },
   "cell_type": "code",
   "source": [
    "class CarClassifierResNetTuned(nn.Module):\n",
    "    def __init__(self, num_classes, dropout_rate=0.5):\n",
    "        super().__init__()\n",
    "        self.model = models.resnet50(weights='DEFAULT')\n",
    "        for param in self.model.parameters():\n",
    "            param.requires_grad = False\n",
    "\n",
    "        for param in self.model.layer4.parameters():\n",
    "            param.requires_grad = True\n",
    "\n",
    "\n",
    "        self.model.fc = nn.Sequential(\n",
    "            nn.Dropout(dropout_rate),\n",
    "            nn.Linear(self.model.fc.in_features, num_classes)\n",
    "        )\n",
    "    def forward(self, x):\n",
    "        x = self.model(x)\n",
    "        return x\n"
   ],
   "id": "a00a4b0edc5a86d3",
   "outputs": [],
   "execution_count": 87
  },
  {
   "metadata": {
    "ExecuteTime": {
     "end_time": "2025-09-18T03:43:10.993106Z",
     "start_time": "2025-09-18T03:43:10.982390Z"
    }
   },
   "cell_type": "code",
   "source": [
    "import optuna\n",
    "\n",
    "\n",
    "def objective(trial):\n",
    "    lr = trial.suggest_float('lr', 1e-5, 1e-1, log=True)\n",
    "    dropout_rate = trial.suggest_float('dropout_rate', 0.2, 0.7)\n",
    "    model = CarClassifierResNetTuned(num_classes=num_classes, dropout_rate=dropout_rate).to(device)\n",
    "    criterion = nn.CrossEntropyLoss()\n",
    "    optimizer = optim.Adam(filter(lambda p : p.requires_grad, model.parameters() ), lr=lr)\n",
    "\n",
    "    epochs = 3\n",
    "    start = time.time()\n",
    "    for epoch in range(epochs):\n",
    "        model.train()\n",
    "        running_loss = 0.0\n",
    "        for batch_num, (images, labels) in enumerate(train_loader):\n",
    "            images, labels = images.to(device), labels.to(device)\n",
    "            optimizer.zero_grad()\n",
    "\n",
    "            outputs = model(images)\n",
    "            loss = criterion(outputs, labels)\n",
    "            loss.backward()\n",
    "\n",
    "            optimizer.step()\n",
    "            running_loss += loss.item() * image.size(0)\n",
    "        epoch_loss = running_loss / len(train_loader.dataset)\n",
    "\n",
    "        model.eval()\n",
    "        with torch.no_grad():\n",
    "            total = 0\n",
    "            correct = 0\n",
    "\n",
    "            for images, labels in val_loader:\n",
    "                images, labels = images.to(device), labels.to(device)\n",
    "                outputs = model(images)\n",
    "                _, predicted = torch.max(outputs, 1)\n",
    "                correct += (predicted == labels).sum().item()\n",
    "                total += label.size(0)\n",
    "            accuracy = correct / total\n",
    "            trial.report(accuracy, epoch)\n",
    "            if trial.should_prune():\n",
    "                raise optuna.exceptions.TrialPruned()\n",
    "    end = time.time()\n",
    "    print(f\"Execution time: {end - start} seconds\")\n",
    "    return accuracy\n"
   ],
   "id": "a61c869d87c75028",
   "outputs": [],
   "execution_count": 97
  },
  {
   "metadata": {
    "ExecuteTime": {
     "end_time": "2025-09-18T03:43:40.281342Z",
     "start_time": "2025-09-18T03:43:40.279099Z"
    }
   },
   "cell_type": "code",
   "source": [
    "study = optuna.create_study(direction='maximize')\n",
    "study.optimize(objective, n_trials=20)"
   ],
   "id": "5a9d400fff0ea914",
   "outputs": [],
   "execution_count": 99
  },
  {
   "metadata": {
    "ExecuteTime": {
     "end_time": "2025-09-18T04:22:39.494691Z",
     "start_time": "2025-09-18T04:22:39.484966Z"
    }
   },
   "cell_type": "code",
   "source": [
    "def train_model(model, criterion, optimizer, epochs=5):\n",
    "    start = time.time()\n",
    "\n",
    "    for epoch in range(epochs):\n",
    "        model.train()\n",
    "        running_loss = 0.0\n",
    "        for batch_num, (images, labels) in enumerate(train_loader):\n",
    "            images, labels = images.to(device), labels.to(device)\n",
    "\n",
    "            # Zero the parameter gradients\n",
    "            optimizer.zero_grad()\n",
    "\n",
    "            # Forward pass\n",
    "            outputs = model(images)\n",
    "            loss = criterion(outputs, labels)\n",
    "\n",
    "            # Backward pass and optimization\n",
    "            loss.backward()\n",
    "            optimizer.step()\n",
    "\n",
    "            if (batch_num+1) % 10 == 0:\n",
    "                print(f\"Batch: {batch_num+1}, Epoch: {epoch+1}, Loss: {loss.item():0.2f}\")\n",
    "\n",
    "            running_loss += loss.item() * images.size(0)\n",
    "\n",
    "        epoch_loss = running_loss / len(train_loader.dataset)\n",
    "        print(f\"Epoch [{epoch+1}/{epochs}], Avg Loss: {epoch_loss:.4f}\")\n",
    "\n",
    "        # Validation\n",
    "        model.eval()\n",
    "        correct = 0\n",
    "        total = 0\n",
    "        all_labels = []\n",
    "        all_predictions = []\n",
    "\n",
    "        with torch.no_grad():\n",
    "            for images, labels in val_loader:\n",
    "                images, labels = images.to(device), labels.to(device)\n",
    "                outputs = model(images)\n",
    "                _, predicted = torch.max(outputs.data,1)\n",
    "                total += labels.size(0)\n",
    "                correct += (predicted == labels).sum().item()\n",
    "                all_labels.extend(labels.cpu().numpy())\n",
    "                all_predictions.extend(predicted.cpu().numpy())\n",
    "\n",
    "            print(f\"*** Validation Accuracy: {100 * correct / total:.2f}% ***\")\n",
    "\n",
    "    end = time.time()\n",
    "    print(f\"Execution time: {end - start} seconds\")\n",
    "\n",
    "    return all_labels, all_predictions"
   ],
   "id": "67ecb793d5ccd055",
   "outputs": [],
   "execution_count": 116
  },
  {
   "metadata": {
    "ExecuteTime": {
     "end_time": "2025-09-18T04:22:40.501016Z",
     "start_time": "2025-09-18T04:22:40.495481Z"
    }
   },
   "cell_type": "code",
   "source": [
    "# Load the pre-trained ResNet model\n",
    "class CarClassifierResNet(nn.Module):\n",
    "    def __init__(self, num_classes, dropout_rate=0.5):\n",
    "        super().__init__()\n",
    "        self.model = models.resnet50(weights='DEFAULT')\n",
    "        # Freeze all layers except the final fully connected layer\n",
    "        for param in self.model.parameters():\n",
    "            param.requires_grad = False\n",
    "\n",
    "        # Unfreeze layer4 and fc layers\n",
    "        for param in self.model.layer4.parameters():\n",
    "            param.requires_grad = True\n",
    "\n",
    "        # Replace the final fully connected layer\n",
    "        self.model.fc = nn.Sequential(\n",
    "            nn.Dropout(dropout_rate),\n",
    "            nn.Linear(self.model.fc.in_features, num_classes)\n",
    "        )\n",
    "\n",
    "    def forward(self, x):\n",
    "        x = self.model(x)\n",
    "        return x"
   ],
   "id": "de99bb12d5f1af74",
   "outputs": [],
   "execution_count": 117
  },
  {
   "metadata": {
    "ExecuteTime": {
     "end_time": "2025-09-18T04:32:03.617042Z",
     "start_time": "2025-09-18T04:22:41.656845Z"
    }
   },
   "cell_type": "code",
   "source": [
    "model = CarClassifierResNet(num_classes=num_classes, dropout_rate=0.2).to(device)\n",
    "criterion = nn.CrossEntropyLoss()\n",
    "optimizer = optim.Adam(filter(lambda p: p.requires_grad, model.parameters()), lr=0.005)\n",
    "\n",
    "labels, predictions = train_model(model, criterion, optimizer, epochs=10)"
   ],
   "id": "2ef89a5d8fae354a",
   "outputs": [
    {
     "name": "stdout",
     "output_type": "stream",
     "text": [
      "Batch: 10, Epoch: 1, Loss: 1.09\n",
      "Batch: 20, Epoch: 1, Loss: 0.72\n",
      "Batch: 30, Epoch: 1, Loss: 0.87\n",
      "Batch: 40, Epoch: 1, Loss: 0.83\n",
      "Batch: 50, Epoch: 1, Loss: 0.86\n",
      "Epoch [1/10], Avg Loss: 0.9115\n",
      "*** Validation Accuracy: 67.48% ***\n",
      "Batch: 10, Epoch: 2, Loss: 0.40\n",
      "Batch: 20, Epoch: 2, Loss: 0.47\n",
      "Batch: 30, Epoch: 2, Loss: 0.72\n",
      "Batch: 40, Epoch: 2, Loss: 0.47\n",
      "Batch: 50, Epoch: 2, Loss: 0.49\n",
      "Epoch [2/10], Avg Loss: 0.5140\n",
      "*** Validation Accuracy: 75.65% ***\n",
      "Batch: 10, Epoch: 3, Loss: 0.23\n",
      "Batch: 20, Epoch: 3, Loss: 0.47\n",
      "Batch: 30, Epoch: 3, Loss: 0.30\n",
      "Batch: 40, Epoch: 3, Loss: 0.35\n",
      "Batch: 50, Epoch: 3, Loss: 0.65\n",
      "Epoch [3/10], Avg Loss: 0.3883\n",
      "*** Validation Accuracy: 79.65% ***\n",
      "Batch: 10, Epoch: 4, Loss: 0.22\n",
      "Batch: 20, Epoch: 4, Loss: 0.22\n",
      "Batch: 30, Epoch: 4, Loss: 0.11\n",
      "Batch: 40, Epoch: 4, Loss: 0.23\n",
      "Batch: 50, Epoch: 4, Loss: 0.23\n",
      "Epoch [4/10], Avg Loss: 0.2862\n",
      "*** Validation Accuracy: 78.78% ***\n",
      "Batch: 10, Epoch: 5, Loss: 0.21\n",
      "Batch: 20, Epoch: 5, Loss: 0.13\n",
      "Batch: 30, Epoch: 5, Loss: 0.07\n",
      "Batch: 40, Epoch: 5, Loss: 0.23\n",
      "Batch: 50, Epoch: 5, Loss: 0.55\n",
      "Epoch [5/10], Avg Loss: 0.2731\n",
      "*** Validation Accuracy: 72.70% ***\n",
      "Batch: 10, Epoch: 6, Loss: 0.19\n",
      "Batch: 20, Epoch: 6, Loss: 0.13\n",
      "Batch: 30, Epoch: 6, Loss: 0.21\n",
      "Batch: 40, Epoch: 6, Loss: 0.25\n",
      "Batch: 50, Epoch: 6, Loss: 0.20\n",
      "Epoch [6/10], Avg Loss: 0.2275\n",
      "*** Validation Accuracy: 76.17% ***\n",
      "Batch: 10, Epoch: 7, Loss: 0.22\n",
      "Batch: 20, Epoch: 7, Loss: 0.08\n",
      "Batch: 30, Epoch: 7, Loss: 0.05\n",
      "Batch: 40, Epoch: 7, Loss: 0.05\n",
      "Batch: 50, Epoch: 7, Loss: 0.15\n",
      "Epoch [7/10], Avg Loss: 0.1929\n",
      "*** Validation Accuracy: 77.22% ***\n",
      "Batch: 10, Epoch: 8, Loss: 0.08\n",
      "Batch: 20, Epoch: 8, Loss: 0.04\n",
      "Batch: 30, Epoch: 8, Loss: 0.04\n",
      "Batch: 40, Epoch: 8, Loss: 0.23\n",
      "Batch: 50, Epoch: 8, Loss: 0.20\n",
      "Epoch [8/10], Avg Loss: 0.1435\n",
      "*** Validation Accuracy: 79.65% ***\n",
      "Batch: 10, Epoch: 9, Loss: 0.06\n",
      "Batch: 20, Epoch: 9, Loss: 0.03\n",
      "Batch: 30, Epoch: 9, Loss: 0.04\n",
      "Batch: 40, Epoch: 9, Loss: 0.05\n",
      "Batch: 50, Epoch: 9, Loss: 0.02\n",
      "Epoch [9/10], Avg Loss: 0.1032\n",
      "*** Validation Accuracy: 79.30% ***\n",
      "Batch: 10, Epoch: 10, Loss: 0.06\n",
      "Batch: 20, Epoch: 10, Loss: 0.11\n",
      "Batch: 30, Epoch: 10, Loss: 0.03\n",
      "Batch: 40, Epoch: 10, Loss: 0.07\n",
      "Batch: 50, Epoch: 10, Loss: 0.04\n",
      "Epoch [10/10], Avg Loss: 0.0917\n",
      "*** Validation Accuracy: 77.22% ***\n",
      "Execution time: 561.1088137626648 seconds\n"
     ]
    }
   ],
   "execution_count": 118
  },
  {
   "metadata": {
    "ExecuteTime": {
     "end_time": "2025-09-18T03:44:27.782553Z",
     "start_time": "2025-09-18T03:44:27.191898Z"
    }
   },
   "cell_type": "code",
   "source": [
    "model = CarClassifierResNet(num_classes=num_classes, dropout_rate=0.2).to(device)\n",
    "criterion = nn.CrossEntropyLoss()\n",
    "optimizer = optim.Adam(filter(lambda p : p.requires_grad, model.parameters() ), lr=0.005)"
   ],
   "id": "61255ebeb414e214",
   "outputs": [],
   "execution_count": 101
  },
  {
   "metadata": {
    "ExecuteTime": {
     "end_time": "2025-09-18T03:54:38.327128Z",
     "start_time": "2025-09-18T03:45:13.889230Z"
    }
   },
   "cell_type": "code",
   "source": "labels, predictions = train_model(model, optimizer, criterion, train_loader, val_loader, epochs=10)",
   "id": "296d35bee296c568",
   "outputs": [
    {
     "name": "stdout",
     "output_type": "stream",
     "text": [
      "Batch: 10, Epoch: 1, Loss: 1.19\n",
      "Batch: 20, Epoch: 1, Loss: 0.81\n",
      "Batch: 30, Epoch: 1, Loss: 0.79\n",
      "Batch: 40, Epoch: 1, Loss: 0.61\n",
      "Batch: 50, Epoch: 1, Loss: 0.94\n",
      "Epoch [1/10], Avg Loss:  0.000016\n",
      "Validation Accuracy: 71.1806\n",
      "Execution time: 44.12180209159851 seconds\n",
      "Batch: 10, Epoch: 2, Loss: 0.48\n",
      "Batch: 20, Epoch: 2, Loss: 0.35\n",
      "Batch: 30, Epoch: 2, Loss: 0.48\n",
      "Batch: 40, Epoch: 2, Loss: 0.44\n",
      "Batch: 50, Epoch: 2, Loss: 0.68\n",
      "Epoch [2/10], Avg Loss:  0.000009\n",
      "Validation Accuracy: 73.2639\n",
      "Execution time: 43.73208284378052 seconds\n",
      "Batch: 10, Epoch: 3, Loss: 0.33\n",
      "Batch: 20, Epoch: 3, Loss: 0.58\n",
      "Batch: 30, Epoch: 3, Loss: 0.63\n",
      "Batch: 40, Epoch: 3, Loss: 0.44\n",
      "Batch: 50, Epoch: 3, Loss: 0.97\n",
      "Epoch [3/10], Avg Loss:  0.000009\n",
      "Validation Accuracy: 70.3125\n",
      "Execution time: 49.871201038360596 seconds\n",
      "Batch: 10, Epoch: 4, Loss: 0.24\n",
      "Batch: 20, Epoch: 4, Loss: 0.36\n",
      "Batch: 30, Epoch: 4, Loss: 0.41\n",
      "Batch: 40, Epoch: 4, Loss: 0.29\n",
      "Batch: 50, Epoch: 4, Loss: 0.17\n",
      "Epoch [4/10], Avg Loss:  0.000006\n",
      "Validation Accuracy: 76.5625\n",
      "Execution time: 58.21887803077698 seconds\n",
      "Batch: 10, Epoch: 5, Loss: 0.20\n",
      "Batch: 20, Epoch: 5, Loss: 0.26\n",
      "Batch: 30, Epoch: 5, Loss: 0.14\n",
      "Batch: 40, Epoch: 5, Loss: 0.15\n",
      "Batch: 50, Epoch: 5, Loss: 0.11\n",
      "Epoch [5/10], Avg Loss:  0.000005\n",
      "Validation Accuracy: 75.5208\n",
      "Execution time: 58.370506048202515 seconds\n",
      "Batch: 10, Epoch: 6, Loss: 0.42\n",
      "Batch: 20, Epoch: 6, Loss: 0.09\n",
      "Batch: 30, Epoch: 6, Loss: 0.27\n",
      "Batch: 40, Epoch: 6, Loss: 0.26\n",
      "Batch: 50, Epoch: 6, Loss: 0.10\n",
      "Epoch [6/10], Avg Loss:  0.000004\n",
      "Validation Accuracy: 77.6042\n",
      "Execution time: 59.99212694168091 seconds\n",
      "Batch: 10, Epoch: 7, Loss: 0.31\n",
      "Batch: 20, Epoch: 7, Loss: 0.08\n",
      "Batch: 30, Epoch: 7, Loss: 0.17\n",
      "Batch: 40, Epoch: 7, Loss: 0.16\n",
      "Batch: 50, Epoch: 7, Loss: 0.31\n",
      "Epoch [7/10], Avg Loss:  0.000003\n",
      "Validation Accuracy: 77.9514\n",
      "Execution time: 65.08039784431458 seconds\n",
      "Batch: 10, Epoch: 8, Loss: 0.09\n",
      "Batch: 20, Epoch: 8, Loss: 0.21\n",
      "Batch: 30, Epoch: 8, Loss: 0.06\n",
      "Batch: 40, Epoch: 8, Loss: 0.16\n",
      "Batch: 50, Epoch: 8, Loss: 0.05\n",
      "Epoch [8/10], Avg Loss:  0.000002\n",
      "Validation Accuracy: 79.6875\n",
      "Execution time: 63.62831997871399 seconds\n",
      "Batch: 10, Epoch: 9, Loss: 0.19\n",
      "Batch: 20, Epoch: 9, Loss: 0.15\n",
      "Batch: 30, Epoch: 9, Loss: 0.07\n",
      "Batch: 40, Epoch: 9, Loss: 0.02\n",
      "Batch: 50, Epoch: 9, Loss: 0.14\n",
      "Epoch [9/10], Avg Loss:  0.000002\n",
      "Validation Accuracy: 77.0833\n",
      "Execution time: 60.49764323234558 seconds\n",
      "Batch: 10, Epoch: 10, Loss: 0.03\n",
      "Batch: 20, Epoch: 10, Loss: 0.01\n",
      "Batch: 30, Epoch: 10, Loss: 0.03\n",
      "Batch: 40, Epoch: 10, Loss: 0.02\n",
      "Batch: 50, Epoch: 10, Loss: 0.06\n",
      "Epoch [10/10], Avg Loss:  0.000002\n",
      "Validation Accuracy: 80.9028\n",
      "Execution time: 60.91954183578491 seconds\n"
     ]
    }
   ],
   "execution_count": 102
  },
  {
   "metadata": {},
   "cell_type": "markdown",
   "source": "### Model Evaluation using confusion matrix and classification report",
   "id": "d57b51dbc3a5c916"
  },
  {
   "metadata": {
    "ExecuteTime": {
     "end_time": "2025-09-18T04:33:00.151253Z",
     "start_time": "2025-09-18T04:33:00.134180Z"
    }
   },
   "cell_type": "code",
   "source": [
    "from sklearn.metrics import classification_report\n",
    "\n",
    "report = classification_report(labels, predictions)\n",
    "print(report)\n"
   ],
   "id": "e3521e5791e8a87d",
   "outputs": [
    {
     "name": "stdout",
     "output_type": "stream",
     "text": [
      "              precision    recall  f1-score   support\n",
      "\n",
      "           0       0.76      0.89      0.82       123\n",
      "           1       0.84      0.49      0.62       107\n",
      "           2       0.76      0.92      0.84       113\n",
      "           3       0.84      0.76      0.79        74\n",
      "           4       0.68      0.67      0.68        76\n",
      "           5       0.78      0.87      0.82        82\n",
      "\n",
      "    accuracy                           0.77       575\n",
      "   macro avg       0.78      0.77      0.76       575\n",
      "weighted avg       0.78      0.77      0.76       575\n",
      "\n"
     ]
    }
   ],
   "execution_count": 119
  },
  {
   "metadata": {
    "ExecuteTime": {
     "end_time": "2025-09-18T04:33:04.301968Z",
     "start_time": "2025-09-18T04:33:04.230448Z"
    }
   },
   "cell_type": "code",
   "source": [
    "import numpy as np\n",
    "from sklearn.metrics import confusion_matrix, ConfusionMatrixDisplay\n",
    "from matplotlib import pyplot as plt\n",
    "\n",
    "class_names = dataset.classes\n",
    "conf_matrix = confusion_matrix(labels, predictions, labels=np. arange(num_classes))\n",
    "disp = ConfusionMatrixDisplay(confusion_matrix=conf_matrix, display_labels=class_names)\n",
    "disp.plot(cmap=plt.cm.Blues, xticks_rotation=45)\n",
    "plt.title(\"Confusion Matrix for Vehicle Damage Classification\")\n",
    "plt. show ()"
   ],
   "id": "37b6124e849065ba",
   "outputs": [
    {
     "data": {
      "text/plain": [
       "<Figure size 640x480 with 2 Axes>"
      ],
      "image/png": "[encoded data removed]"
     },
     "metadata": {},
     "output_type": "display_data"
    }
   ],
   "execution_count": 120
  },
  {
   "metadata": {
    "ExecuteTime": {
     "end_time": "2025-09-18T05:34:33.084623Z",
     "start_time": "2025-09-18T05:34:32.180715Z"
    }
   },
   "cell_type": "code",
   "source": "torch.save(model.state_dict(), 'saved_model.pth')",
   "id": "da550abd916a71e0",
   "outputs": [],
   "execution_count": 121
  },
  {
   "metadata": {},
   "cell_type": "code",
   "outputs": [],
   "execution_count": null,
   "source": "",
   "id": "ad0080bc6eb17547"
  }
 ],
 "metadata": {
  "kernelspec": {
   "display_name": "Python 3",
   "language": "python",
   "name": "python3"
  },
  "language_info": {
   "codemirror_mode": {
    "name": "ipython",
    "version": 2
   },
   "file_extension": ".py",
   "mimetype": "text/x-python",
   "name": "python",
   "nbconvert_exporter": "python",
   "pygments_lexer": "ipython2",
   "version": "2.7.6"
  }
 },
 "nbformat": 4,
 "nbformat_minor": 5
}
